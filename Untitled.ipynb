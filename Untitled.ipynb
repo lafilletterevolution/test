{
 "cells": [
  {
   "cell_type": "code",
   "execution_count": 24,
   "id": "b6c7796c",
   "metadata": {},
   "outputs": [
    {
     "name": "stdout",
     "output_type": "stream",
     "text": [
      "who are u?\n"
     ]
    }
   ],
   "source": [
    "# from fastai.vision.widgets import *\n",
    "print('who are u?')\n",
    "# what = input()\n",
    "# print('hi ' + what)"
   ]
  },
  {
   "cell_type": "code",
   "execution_count": 23,
   "id": "7d79ec78",
   "metadata": {},
   "outputs": [
    {
     "data": {
      "application/vnd.jupyter.widget-view+json": {
       "model_id": "4540701974184362a0217c08113cac43",
       "version_major": 2,
       "version_minor": 0
      },
      "text/plain": [
       "Label(value='')"
      ]
     },
     "metadata": {},
     "output_type": "display_data"
    }
   ],
   "source": [
    "# lbl_pred"
   ]
  },
  {
   "cell_type": "code",
   "execution_count": null,
   "id": "fb984500",
   "metadata": {},
   "outputs": [],
   "source": []
  },
  {
   "cell_type": "code",
   "execution_count": null,
   "id": "dc7b4e0e",
   "metadata": {},
   "outputs": [],
   "source": []
  }
 ],
 "metadata": {
  "kernelspec": {
   "display_name": "Python 3",
   "language": "python",
   "name": "python3"
  },
  "language_info": {
   "codemirror_mode": {
    "name": "ipython",
    "version": 3
   },
   "file_extension": ".py",
   "mimetype": "text/x-python",
   "name": "python",
   "nbconvert_exporter": "python",
   "pygments_lexer": "ipython3",
   "version": "3.8.0"
  }
 },
 "nbformat": 4,
 "nbformat_minor": 5
}
