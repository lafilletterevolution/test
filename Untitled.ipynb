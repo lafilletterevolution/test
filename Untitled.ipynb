{
 "cells": [
  {
   "cell_type": "code",
   "execution_count": 7,
   "id": "b65f1725",
   "metadata": {},
   "outputs": [],
   "source": [
    "# from ipywidgets import interact, widgets\n",
    "# from IPython.display import display\n",
    "\n",
    "\n",
    "\n",
    "# def callback(wdgt):\n",
    "#     # replace by something useful\n",
    "# #     display(wdgt.value)\n",
    "#     print('Hello %s!' %wdgt.value)\n",
    "\n",
    "# # while True:\n",
    "    \n",
    "# text = widgets.Text(\n",
    "#     description='Who are u:',\n",
    "# )\n",
    "# display(text)\n",
    "\n",
    "\n",
    "# text.on_submit(callback)"
   ]
  },
  {
   "cell_type": "code",
   "execution_count": 42,
   "id": "b2912054",
   "metadata": {},
   "outputs": [
    {
     "data": {
      "application/vnd.jupyter.widget-view+json": {
       "model_id": "aebc4d63a2844e0fa3a3bc410c4dada3",
       "version_major": 2,
       "version_minor": 0
      },
      "text/plain": [
       "FileUpload(value={}, description='Upload')"
      ]
     },
     "metadata": {},
     "output_type": "display_data"
    }
   ],
   "source": [
    "import ipywidgets as widgets\n",
    "from IPython.display import display\n",
    "import io\n",
    "import docx2txt\n",
    "\n",
    "uploader = widgets.FileUpload()\n",
    "display(uploader)\n",
    "\n",
    "#     img = docx2txt.process(io.BytesIO(file_info['content']))\n",
    "    "
   ]
  },
  {
   "cell_type": "code",
   "execution_count": 45,
   "id": "9f54fd5b",
   "metadata": {},
   "outputs": [
    {
     "name": "stdout",
     "output_type": "stream",
     "text": [
      "Some text.\n"
     ]
    }
   ],
   "source": [
    "for name, file_info in uploader.value.items():\n",
    "    print(docx2txt.process(io.BytesIO(file_info['content'])))"
   ]
  },
  {
   "cell_type": "code",
   "execution_count": null,
   "id": "373c27eb",
   "metadata": {},
   "outputs": [],
   "source": []
  },
  {
   "cell_type": "code",
   "execution_count": null,
   "id": "f28a33b5",
   "metadata": {},
   "outputs": [],
   "source": []
  },
  {
   "cell_type": "code",
   "execution_count": null,
   "id": "296ab14a",
   "metadata": {},
   "outputs": [],
   "source": []
  },
  {
   "cell_type": "code",
   "execution_count": null,
   "id": "7de96f69",
   "metadata": {},
   "outputs": [],
   "source": []
  }
 ],
 "metadata": {
  "kernelspec": {
   "display_name": "Python 3",
   "language": "python",
   "name": "python3"
  },
  "language_info": {
   "codemirror_mode": {
    "name": "ipython",
    "version": 3
   },
   "file_extension": ".py",
   "mimetype": "text/x-python",
   "name": "python",
   "nbconvert_exporter": "python",
   "pygments_lexer": "ipython3",
   "version": "3.8.0"
  }
 },
 "nbformat": 4,
 "nbformat_minor": 5
}
