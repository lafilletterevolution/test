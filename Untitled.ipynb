{
 "cells": [
  {
   "cell_type": "code",
   "execution_count": null,
   "id": "3ce8d429",
   "metadata": {},
   "outputs": [],
   "source": [
    "# from ipywidgets import interact, widgets\n",
    "# from IPython.display import display\n",
    "\n",
    "\n",
    "\n",
    "# def callback(wdgt):\n",
    "#     # replace by something useful\n",
    "# #     display(wdgt.value)\n",
    "#     print('Hello %s!' %wdgt.value)\n",
    "\n",
    "# # while True:\n",
    "    \n",
    "# text = widgets.Text(\n",
    "#     description='Who are u:',\n",
    "# )\n",
    "# display(text)\n",
    "\n",
    "\n",
    "# text.on_submit(callback)"
   ]
  },
  {
   "cell_type": "code",
   "execution_count": 4,
   "id": "5fa0039c",
   "metadata": {},
   "outputs": [
    {
     "data": {
      "application/vnd.jupyter.widget-view+json": {
       "model_id": "eb755fc74e9546c5a16c1b69b1d83ade",
       "version_major": 2,
       "version_minor": 0
      },
      "text/plain": [
       "FileUpload(value={}, description='Upload')"
      ]
     },
     "metadata": {},
     "output_type": "display_data"
    },
    {
     "ename": "AttributeError",
     "evalue": "'FileUpload' object has no attribute 'on_submit'",
     "output_type": "error",
     "traceback": [
      "\u001b[1;31m---------------------------------------------------------------------------\u001b[0m",
      "\u001b[1;31mAttributeError\u001b[0m                            Traceback (most recent call last)",
      "\u001b[1;32m<ipython-input-4-8b128903cc05>\u001b[0m in \u001b[0;36m<module>\u001b[1;34m\u001b[0m\n\u001b[0;32m     10\u001b[0m \u001b[1;31m#     print(docx2txt.process(io.BytesIO(file_info['content'])))\u001b[0m\u001b[1;33m\u001b[0m\u001b[1;33m\u001b[0m\u001b[1;33m\u001b[0m\u001b[0m\n\u001b[0;32m     11\u001b[0m \u001b[1;33m\u001b[0m\u001b[0m\n\u001b[1;32m---> 12\u001b[1;33m \u001b[0muploader\u001b[0m\u001b[1;33m.\u001b[0m\u001b[0mon_submit\u001b[0m\u001b[1;33m(\u001b[0m\u001b[0mprint\u001b[0m\u001b[1;33m(\u001b[0m\u001b[0mdocx2txt\u001b[0m\u001b[1;33m.\u001b[0m\u001b[0mprocess\u001b[0m\u001b[1;33m(\u001b[0m\u001b[0mio\u001b[0m\u001b[1;33m.\u001b[0m\u001b[0mBytesIO\u001b[0m\u001b[1;33m(\u001b[0m\u001b[0mfile_info\u001b[0m\u001b[1;33m[\u001b[0m\u001b[1;34m'content'\u001b[0m\u001b[1;33m]\u001b[0m\u001b[1;33m)\u001b[0m\u001b[1;33m)\u001b[0m\u001b[1;33m)\u001b[0m\u001b[1;33m)\u001b[0m\u001b[1;33m\u001b[0m\u001b[1;33m\u001b[0m\u001b[0m\n\u001b[0m",
      "\u001b[1;31mAttributeError\u001b[0m: 'FileUpload' object has no attribute 'on_submit'"
     ]
    }
   ],
   "source": [
    "# import ipywidgets as widgets\n",
    "# from IPython.display import display\n",
    "# import io\n",
    "# import docx2txt\n",
    "\n",
    "# uploader = widgets.FileUpload()\n",
    "# display(uploader)\n",
    "\n",
    "# # for name, file_info in uploader.value.items():\n",
    "# #     print(docx2txt.process(io.BytesIO(file_info['content'])))\n",
    "    \n",
    "# uploader.on_submit(print(docx2txt.process(io.BytesIO(file_info['content']))))"
   ]
  },
  {
   "cell_type": "code",
   "execution_count": 5,
   "id": "7dc23926",
   "metadata": {
    "scrolled": true
   },
   "outputs": [
    {
     "data": {
      "application/vnd.jupyter.widget-view+json": {
       "model_id": "43669bc3d2d042f48ffbb80fee1dbec9",
       "version_major": 2,
       "version_minor": 0
      },
      "text/plain": [
       "Text(value='')"
      ]
     },
     "metadata": {},
     "output_type": "display_data"
    },
    {
     "name": "stdout",
     "output_type": "stream",
     "text": [
      "1234\n",
      "1234\n",
      "1234\n",
      "1234\n",
      "1234\n",
      "1234\n",
      "1234\n",
      "1234\n",
      "1234\n",
      "1234\n",
      "1234\n",
      "1234\n",
      "1234\n",
      "1234\n",
      "1234\n",
      "1234\n",
      "1234\n",
      "1234\n",
      "1234\n",
      "1234\n",
      "1234\n",
      "1234\n",
      "1234\n",
      "1234\n",
      "1234\n",
      "1234\n",
      "1234\n",
      "1234\n",
      "1234\n",
      "1234\n",
      "1234\n",
      "1234\n",
      "1234\n",
      "1234\n",
      "1234\n",
      "1234\n",
      "1234\n",
      "1234\n",
      "1234\n",
      "1234\n"
     ]
    }
   ],
   "source": [
    "from ipywidgets import widgets\n",
    "from IPython.display import display\n",
    "\n",
    "text = widgets.Text()\n",
    "display(text)\n",
    "\n",
    "def handle_submit(sender):\n",
    "    print('\\n'.join([text.value] * 5 ))   \n",
    "\n",
    "text.on_submit(handle_submit)"
   ]
  },
  {
   "cell_type": "code",
   "execution_count": null,
   "id": "198c4f3d",
   "metadata": {},
   "outputs": [],
   "source": []
  },
  {
   "cell_type": "code",
   "execution_count": null,
   "id": "f7dc6fc0",
   "metadata": {},
   "outputs": [],
   "source": []
  },
  {
   "cell_type": "code",
   "execution_count": null,
   "id": "c6ee2251",
   "metadata": {},
   "outputs": [],
   "source": []
  },
  {
   "cell_type": "code",
   "execution_count": null,
   "id": "5ef825cc",
   "metadata": {},
   "outputs": [],
   "source": []
  }
 ],
 "metadata": {
  "kernelspec": {
   "display_name": "Python 3",
   "language": "python",
   "name": "python3"
  },
  "language_info": {
   "codemirror_mode": {
    "name": "ipython",
    "version": 3
   },
   "file_extension": ".py",
   "mimetype": "text/x-python",
   "name": "python",
   "nbconvert_exporter": "python",
   "pygments_lexer": "ipython3",
   "version": "3.8.0"
  }
 },
 "nbformat": 4,
 "nbformat_minor": 5
}
