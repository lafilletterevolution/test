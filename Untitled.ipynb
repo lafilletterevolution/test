{
 "cells": [
  {
   "cell_type": "code",
   "execution_count": 25,
   "id": "03ee1b7b",
   "metadata": {},
   "outputs": [
    {
     "data": {
      "application/vnd.jupyter.widget-view+json": {
       "model_id": "d7ac7788343041a9bd6324fecc782f1a",
       "version_major": 2,
       "version_minor": 0
      },
      "text/plain": [
       "Text(value='', description='Who are u:')"
      ]
     },
     "metadata": {},
     "output_type": "display_data"
    },
    {
     "name": "stdout",
     "output_type": "stream",
     "text": [
      "Hello a\n"
     ]
    }
   ],
   "source": [
    "from ipywidgets import interact, widgets\n",
    "from IPython.display import display\n",
    "\n",
    "text = widgets.Text(\n",
    "    description='Who are u:',\n",
    ")\n",
    "display(text)\n",
    "\n",
    "def callback(wdgt):\n",
    "    # replace by something useful\n",
    "#     display(wdgt.value)\n",
    "    print('Hello %s!' %wdgt.value)\n",
    "\n",
    "text.on_submit(callback)"
   ]
  },
  {
   "cell_type": "code",
   "execution_count": null,
   "id": "35a966ba",
   "metadata": {},
   "outputs": [],
   "source": []
  }
 ],
 "metadata": {
  "kernelspec": {
   "display_name": "Python 3",
   "language": "python",
   "name": "python3"
  },
  "language_info": {
   "codemirror_mode": {
    "name": "ipython",
    "version": 3
   },
   "file_extension": ".py",
   "mimetype": "text/x-python",
   "name": "python",
   "nbconvert_exporter": "python",
   "pygments_lexer": "ipython3",
   "version": "3.8.0"
  }
 },
 "nbformat": 4,
 "nbformat_minor": 5
}
